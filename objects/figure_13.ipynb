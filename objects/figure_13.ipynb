{
 "cells": [
  {
   "cell_type": "markdown",
   "metadata": {},
   "source": [
    "# Figure 13"
   ]
  },
  {
   "cell_type": "markdown",
   "metadata": {},
   "source": [
    "The following script was used to generate the graphs of Figure 13 of the article \"Behavioral Diversity Generation in Autonomous Exploration Through Reuse of Past Experience\" by Fabien C. Y. Benureau and Pierre-Yves Oudeyer.\n",
    "\n",
    "The [full code is available](http://fabien.benureau.com/code/frontiers2016.html) and is distributed under the [Open Science License](http://fabien.benureau.com/openscience.html). For any questions, remarks or difficulties running this code, contact [fabien.benureau@gmail.com](mailto:fabien.benureau@gmail.com)."
   ]
  },
  {
   "cell_type": "code",
   "execution_count": null,
   "metadata": {
    "collapsed": false
   },
   "outputs": [],
   "source": [
    "import experiments\n",
    "\n",
    "import dotdot\n",
    "import graphs\n",
    "\n",
    "from fig13_cluster import rmb_reuse_short\n",
    "\n",
    "expcfgs = rmb_reuse_short()\n",
    "results = experiments.load_results(expcfgs, 'tcov', mask=(True, False, True))\n",
    "\n",
    "graphs.output_notebook()\n",
    "graphs.reuse_quantiles(results, y_max=360000)"
   ]
  },
  {
   "cell_type": "markdown",
   "metadata": {},
   "source": [
    "## Provenance Data"
   ]
  },
  {
   "cell_type": "markdown",
   "metadata": {},
   "source": [
    "The cluster provenance code examines all the exploration data files of this experiment to check and compare their embedded provenance data."
   ]
  },
  {
   "cell_type": "code",
   "execution_count": null,
   "metadata": {
    "collapsed": false
   },
   "outputs": [],
   "source": [
    "import provenance\n",
    "prov_data = provenance.cluster(rmb_reuse_short()) # this may take a minute.\n",
    "print(prov_data.message())"
   ]
  },
  {
   "cell_type": "markdown",
   "metadata": {
    "collapsed": true
   },
   "source": [
    " "
   ]
  }
 ],
 "metadata": {
  "kernelspec": {
   "display_name": "Python 2",
   "language": "python",
   "name": "python2"
  },
  "language_info": {
   "codemirror_mode": {
    "name": "ipython",
    "version": 2
   },
   "file_extension": ".py",
   "mimetype": "text/x-python",
   "name": "python",
   "nbconvert_exporter": "python",
   "pygments_lexer": "ipython2",
   "version": "2.7.11"
  }
 },
 "nbformat": 4,
 "nbformat_minor": 0
}