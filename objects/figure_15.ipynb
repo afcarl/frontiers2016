{
 "cells": [
  {
   "cell_type": "markdown",
   "metadata": {},
   "source": [
    "# Figure 15"
   ]
  },
  {
   "cell_type": "markdown",
   "metadata": {},
   "source": [
    "The following code was used to generate the graphs of Figure 10 of the article \"Behavioral Diversity Generation in Autonomous Exploration Through Reuse of Past Experience\" by Fabien C. Y. Benureau and Pierre-Yves Oudeyer (currently under review).\n",
    "\n",
    "It is distributed under the [Open Science License](http://fabien.benureau.com/openscience.html). For any questions and remarks about the code, contact [fabien.benureau@gmail.com](mailto:fabien.benureau@gmail.com)."
   ]
  },
  {
   "cell_type": "code",
   "execution_count": null,
   "metadata": {
    "collapsed": false
   },
   "outputs": [],
   "source": [
    "import experiments\n",
    "\n",
    "import dotdot\n",
    "import graphs\n",
    "\n",
    "from fig15_cluster import pool\n",
    "\n",
    "expcfgs = pool()\n",
    "data = experiments.load_explorations([expcfgs[0]], rep=0)\n",
    "\n",
    "graphs.output_notebook()\n",
    "graphs.reuse_coverage(data[0], milestones=(200, 500, 1000),\n",
    "                      nor=True, src=False, tgt=True, # no reuse and reuse graphs\n",
    "                      grid=True, xgridlines=range(-600, 1401, 200),\n",
    "                                 ygridlines=range(-400, 1601, 200))\n",
    "graphs.reuse_coverage(data[0], milestones=(200, 500, 1000), \n",
    "                      nor=False, src=True, tgt=False, # source graphs\n",
    "                      grid=True, xgridlines=range(-300, 301, 100),\n",
    "                                 ygridlines=range(-300, 301, 100))"
   ]
  },
  {
   "cell_type": "markdown",
   "metadata": {},
   "source": [
    " "
   ]
  }
 ],
 "metadata": {
  "kernelspec": {
   "display_name": "Python 2",
   "language": "python",
   "name": "python2"
  },
  "language_info": {
   "codemirror_mode": {
    "name": "ipython",
    "version": 2
   },
   "file_extension": ".py",
   "mimetype": "text/x-python",
   "name": "python",
   "nbconvert_exporter": "python",
   "pygments_lexer": "ipython2",
   "version": "2.7.11"
  }
 },
 "nbformat": 4,
 "nbformat_minor": 0
}