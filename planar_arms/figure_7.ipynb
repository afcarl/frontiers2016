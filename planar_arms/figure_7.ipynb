{
 "cells": [
  {
   "cell_type": "markdown",
   "metadata": {},
   "source": [
    "# Figure 7"
   ]
  },
  {
   "cell_type": "markdown",
   "metadata": {},
   "source": [
    "The following script was used to generate the graphs of Figure 7 of the article \"Behavioral Diversity Generation in Autonomous Exploration Through Reuse of Past Experience\" by Fabien C. Y. Benureau and Pierre-Yves Oudeyer.\n",
    "\n",
    "The [full code is available](http://fabien.benureau.com/code/frontiers2016.html) and is distributed under the [Open Science License](http://fabien.benureau.com/openscience.html). For any questions, remarks or difficulties running this code, contact [fabien.benureau@gmail.com](mailto:fabien.benureau@gmail.com)."
   ]
  },
  {
   "cell_type": "code",
   "execution_count": null,
   "metadata": {
    "collapsed": false
   },
   "outputs": [],
   "source": [
    "import random\n",
    "\n",
    "import scipy.stats\n",
    "from bokeh import plotting\n",
    "import pyprind # progress bars\n",
    "\n",
    "import explorers\n",
    "import environments\n",
    "\n",
    "import dotdot\n",
    "import exs\n",
    "import envs\n",
    "import factored\n",
    "import graphs\n",
    "\n",
    "\n",
    "random.seed(0)\n",
    "graphs.output_notebook()"
   ]
  },
  {
   "cell_type": "code",
   "execution_count": null,
   "metadata": {
    "collapsed": false
   },
   "outputs": [],
   "source": [
    "DIM = 20    # number of joints\n",
    "N   = 20000 # size of the total population\n",
    "M   = 1000  # maximum size of subsets whose diversity is compared\n",
    "\n",
    "env1 = environments.Environment.create(envs.catalog['kin{}_150'.format(DIM)])\n",
    "env2 = environments.Environment.create(envs.catalog['kin{}_150_0.9'.format(DIM)])\n",
    "\n",
    "m_signals = [environments.tools.random_signal(env1.m_channels) for _ in range(N)]\n",
    "\n",
    "# creating comparative s_vectors\n",
    "s_vectors1, s_vectors2 = [], []\n",
    "for m_signal in m_signals:\n",
    "    s_vectors1.append(environments.tools.to_vector(env1.execute(m_signal)['s_signal'], env1.s_channels))\n",
    "    s_vectors2.append(environments.tools.to_vector(env2.execute(m_signal)['s_signal'], env2.s_channels))"
   ]
  },
  {
   "cell_type": "code",
   "execution_count": null,
   "metadata": {
    "collapsed": false
   },
   "outputs": [],
   "source": [
    "# this will take a few minutes.\n",
    "def compute_diversities(s_vectors1, s_vectors2):\n",
    "    \"\"\"Compute the diversity of random subsets of the sensory vectors\"\"\"\n",
    "    divs = []\n",
    "    progress_bar = pyprind.ProgBar(M-1)\n",
    "\n",
    "    assert len(s_vectors1) == len(s_vectors2)\n",
    "\n",
    "    \n",
    "    for k in range(1, M, 1):\n",
    "        for _ in range(1):\n",
    "            pop_idx = random.sample(range(len(s_vectors1)), k)\n",
    "            pop1 = [s_vectors1[i] for i in pop_idx]\n",
    "            pop2 = [s_vectors2[i] for i in pop_idx]\n",
    "\n",
    "            div1 = factored.run_coverage(0.05, pop1)\n",
    "            div2 = factored.run_coverage(0.05, pop2)\n",
    "            divs.append((div1, div2))\n",
    "        progress_bar.update()\n",
    "            \n",
    "    return divs\n",
    "\n",
    "divs = compute_diversities(s_vectors1, s_vectors2)"
   ]
  },
  {
   "cell_type": "code",
   "execution_count": null,
   "metadata": {
    "collapsed": false
   },
   "outputs": [],
   "source": [
    "# Peason correlation\n",
    "print(scipy.stats.pearsonr([d[0] for d in divs], [d[1] for d in divs]))"
   ]
  },
  {
   "cell_type": "code",
   "execution_count": null,
   "metadata": {
    "collapsed": false
   },
   "outputs": [],
   "source": [
    "fig = plotting.figure(title='diversity correlation_{}'.format(DIM), x_range=[0, 1.4], y_range=[0, 1.4])\n",
    "fig.scatter([d[0] for d in divs], [d[1] for d in divs],\n",
    "            radius=1.2, radius_units='screen', line_color=None, fill_alpha=0.5)\n",
    "graphs.show(fig)"
   ]
  },
  {
   "cell_type": "markdown",
   "metadata": {},
   "source": [
    "## Provenance Data"
   ]
  },
  {
   "cell_type": "code",
   "execution_count": null,
   "metadata": {
    "collapsed": false
   },
   "outputs": [],
   "source": [
    "import provenance\n",
    "prov_data = provenance.planar_arms()\n",
    "print(prov_data.message())"
   ]
  },
  {
   "cell_type": "markdown",
   "metadata": {},
   "source": [
    " "
   ]
  }
 ],
 "metadata": {
  "kernelspec": {
   "display_name": "Python 2",
   "language": "python",
   "name": "python2"
  },
  "language_info": {
   "codemirror_mode": {
    "name": "ipython",
    "version": 2
   },
   "file_extension": ".py",
   "mimetype": "text/x-python",
   "name": "python",
   "nbconvert_exporter": "python",
   "pygments_lexer": "ipython2",
   "version": "2.7.11"
  }
 },
 "nbformat": 4,
 "nbformat_minor": 0
}