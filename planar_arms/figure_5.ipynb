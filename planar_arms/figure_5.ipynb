{
 "cells": [
  {
   "cell_type": "markdown",
   "metadata": {},
   "source": [
    "# Figure 5"
   ]
  },
  {
   "cell_type": "markdown",
   "metadata": {},
   "source": [
    "The following code was used to generate the graphs of Figure 3 of the article \"Behavioral Diversity Generation in Autonomous Exploration Through Reuse of Past Experience\" by Fabien C. Y. Benureau and Pierre-Yves Oudeyer (currently under review).\n",
    "\n",
    "It is distributed under the [Open Science License](http://fabien.benureau.com/openscience.html). For any questions and remarks about the code, contact [fabien.benureau@gmail.com](mailto:fabien.benureau@gmail.com)."
   ]
  },
  {
   "cell_type": "code",
   "execution_count": null,
   "metadata": {
    "collapsed": false
   },
   "outputs": [],
   "source": [
    "import experiments\n",
    "\n",
    "import dotdot\n",
    "import graphs\n",
    "\n",
    "from fig5_cluster import planar\n",
    "\n",
    "expcfgs = planar()\n",
    "results = experiments.load_results(expcfgs, 'tcov', mask=(True, False, True))\n",
    "\n",
    "graphs.output_notebook()\n",
    "graphs.reuse_quantiles(results, y_max=3.268)"
   ]
  },
  {
   "cell_type": "markdown",
   "metadata": {},
   "source": [
    "## Provenance Data"
   ]
  },
  {
   "cell_type": "code",
   "execution_count": null,
   "metadata": {
    "collapsed": false
   },
   "outputs": [],
   "source": [
    "import provenance\n",
    "prov_data = provenance.planar_arms()\n",
    "print(prov_data.message())"
   ]
  },
  {
   "cell_type": "markdown",
   "metadata": {
    "collapsed": true
   },
   "source": [
    " "
   ]
  }
 ],
 "metadata": {
  "kernelspec": {
   "display_name": "Python 2",
   "language": "python",
   "name": "python2"
  },
  "language_info": {
   "codemirror_mode": {
    "name": "ipython",
    "version": 2
   },
   "file_extension": ".py",
   "mimetype": "text/x-python",
   "name": "python",
   "nbconvert_exporter": "python",
   "pygments_lexer": "ipython2",
   "version": "2.7.11"
  }
 },
 "nbformat": 4,
 "nbformat_minor": 0
}