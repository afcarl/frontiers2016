{
 "cells": [
  {
   "cell_type": "markdown",
   "metadata": {},
   "source": [
    "# Figure 6"
   ]
  },
  {
   "cell_type": "markdown",
   "metadata": {},
   "source": [
    "The following code was used to generate the graphs of Figure 6 of the article \"Behavioral Diversity Generation in Autonomous Exploration Through Reuse of Past Experience\" by Fabien C. Y. Benureau and Pierre-Yves Oudeyer (currently under review).\n",
    "\n",
    "It is distributed under the [Open Science License](http://fabien.benureau.com/openscience.html). For any questions and remarks about the code, contact [fabien.benureau@gmail.com](mailto:fabien.benureau@gmail.com)."
   ]
  },
  {
   "cell_type": "code",
   "execution_count": null,
   "metadata": {
    "collapsed": false
   },
   "outputs": [],
   "source": [
    "import os\n",
    "import copy\n",
    "import math\n",
    "\n",
    "import numpy as np\n",
    "\n",
    "import environments\n",
    "from environments import tools\n",
    "\n",
    "import experiments\n",
    "\n",
    "import dotdot\n",
    "import graphs\n",
    "\n",
    "from fig5_cluster import planar\n",
    "\n",
    "graphs.output_notebook()"
   ]
  },
  {
   "cell_type": "markdown",
   "metadata": {},
   "source": [
    "## Results"
   ]
  },
  {
   "cell_type": "markdown",
   "metadata": {},
   "source": [
    "Loading results, and finding the indexes of the worst experiments for the reuse and no reuse cases (for the coverage at t=5000). "
   ]
  },
  {
   "cell_type": "code",
   "execution_count": null,
   "metadata": {
    "collapsed": false
   },
   "outputs": [],
   "source": [
    "expcfgs = planar()\n",
    "results = experiments.load_results(expcfgs, 'tcov', mask=(True, True, True))\n",
    "for nor_res, src_res, tgt_res in results:\n",
    "    min_nor = np.argmin(nor_res['tick_avgs'][-1])\n",
    "    min_tgt = np.argmin(tgt_res['tick_avgs'][-1])"
   ]
  },
  {
   "cell_type": "markdown",
   "metadata": {},
   "source": [
    "## No Reuse Case"
   ]
  },
  {
   "cell_type": "markdown",
   "metadata": {},
   "source": [
    "Distribution of the worst no-reuse experiment + cardinal and intercardinal extremum postures"
   ]
  },
  {
   "cell_type": "code",
   "execution_count": null,
   "metadata": {
    "collapsed": false
   },
   "outputs": [],
   "source": [
    "data_min_nor = experiments.load_explorations(expcfgs, rep=min_nor)"
   ]
  },
  {
   "cell_type": "code",
   "execution_count": null,
   "metadata": {
    "collapsed": false
   },
   "outputs": [],
   "source": [
    "def spread(d):\n",
    "    env_cfg = d.job.jobcfg.exploration.env\n",
    "    env = environments.Environment.create(env_cfg)\n",
    "\n",
    "    fig = graphs.spread(d['s_channels'], s_vectors=d['s_vectors'], \n",
    "                        e_radius=1.0, e_alpha=0.5, title='{}'.format(d.job.jobcfg.key))\n",
    "    return graphs.posture_extrema(env, d['explorations'], fig=fig, alpha=1.0, radius_factor=0.75, line_factor=1.0)\n",
    "\n",
    "\n",
    "for nor_data, src_data, tgt_data in data_min_nor:\n",
    "    # zoom code\n",
    "    env_cfg = nor_data.job.jobcfg.exploration.env\n",
    "    env = environments.Environment.create(env_cfg)\n",
    "    zoom = graphs.posture_extrema(env, nor_data['explorations'], \n",
    "                                  x_range=[0, 0.2], y_range=[0.5, 1], \n",
    "                                  plot_width=int(80+ 0.4*(450-80)), plot_height=450,\n",
    "                                  alpha=1.0, radius_factor=0.5, line_factor=1.0)\n",
    "    graphs.show([[spread(nor_data), zoom]])"
   ]
  },
  {
   "cell_type": "markdown",
   "metadata": {},
   "source": [
    "## Reuse Case"
   ]
  },
  {
   "cell_type": "markdown",
   "metadata": {},
   "source": [
    "Distribution of the worst reuse experiment + cardinal and intercardinal extremum postures"
   ]
  },
  {
   "cell_type": "code",
   "execution_count": null,
   "metadata": {
    "collapsed": false
   },
   "outputs": [],
   "source": [
    "data_min_tgt = experiments.load_explorations(expcfgs, rep=min_tgt)"
   ]
  },
  {
   "cell_type": "code",
   "execution_count": null,
   "metadata": {
    "collapsed": false
   },
   "outputs": [],
   "source": [
    "figs = []\n",
    "for nor_data, src_data, tgt_data in data_min_tgt:\n",
    "    figs.append(spread(src_data))\n",
    "    figs.append(spread(tgt_data))\n",
    "fig = graphs.show([figs])"
   ]
  },
  {
   "cell_type": "markdown",
   "metadata": {},
   "source": [
    "### Reused Commands"
   ]
  },
  {
   "cell_type": "markdown",
   "metadata": {},
   "source": [
    "Showing motor commands reused by the worst reuse experiment."
   ]
  },
  {
   "cell_type": "code",
   "execution_count": null,
   "metadata": {
    "collapsed": true
   },
   "outputs": [],
   "source": [
    "def arm_width(env, m_signal):\n",
    "    \"\"\"How much lateral space a posture occupies (for screen placement)\"\"\"\n",
    "    s_signal = env.execute(m_signal)\n",
    "    xs, ys = zip(*env.posture)\n",
    "    ys, xs = xs, ys\n",
    "    return min(xs), max(xs)"
   ]
  },
  {
   "cell_type": "code",
   "execution_count": null,
   "metadata": {
    "collapsed": false
   },
   "outputs": [],
   "source": [
    "import bokeh.models\n",
    "\n",
    "def arm_examples(env, examples):\n",
    "    \"\"\"Display rotated example of arm postures\"\"\"\n",
    "    fig = None\n",
    "    x_offset = 0.025\n",
    "    y_offset = 0.0\n",
    "    examples = copy.deepcopy(examples)\n",
    "    \n",
    "    for i, e in enumerate(examples):\n",
    "        x = env.execute(e[0]['m_signal'])['s_signal']['x']\n",
    "        y = env.execute(e[0]['m_signal'])['s_signal']['y']\n",
    "        e[0]['m_signal']['j19'] -= math.degrees(math.atan2(y, x))\n",
    "        e[0]['m_signal']['j19'] = ((e[0]['m_signal']['j19']+180)%(360))-180\n",
    "\n",
    "        x_min, x_max = arm_width(env, e[0]['m_signal'])\n",
    "        x_offset += max(0, -x_min) + 0.05\n",
    "\n",
    "        fig = graphs.posture_explorations(env, [e], fig=fig, x_T=x_offset, y_T=y_offset,\n",
    "                                          plot_width=3800/4, plot_height=3200/4, grid=False,\n",
    "                                          x_range=[0.0, 3.8], y_range=[-2.2, 1.0],\n",
    "                                          alpha=0.50, radius_factor=1.0)\n",
    "        \n",
    "        fig.outline_line_color = None\n",
    "        fig.axis.major_tick_out = 4\n",
    "        fig.axis.minor_tick_out = 0\n",
    "        \n",
    "        fig.xgrid.grid_line_color = None\n",
    "        fig.xaxis.axis_line_color = None\n",
    "        fig.xaxis.major_tick_line_color = None\n",
    "        fig.xaxis.major_label_text_color = None\n",
    "        \n",
    "        fig.yaxis.major_label_text_font_size=\"14pt\"\n",
    "        fig.yaxis[0].ticker=bokeh.models.FixedTicker(ticks=[1, 0, -1, -2, -3])\n",
    "\n",
    "        x_offset += max(0, x_max)\n",
    "        if x_offset > 3.5:            \n",
    "            y_offset -= 1.0\n",
    "            x_offset  = 0.025\n",
    "\n",
    "    graphs.show(fig)"
   ]
  },
  {
   "cell_type": "code",
   "execution_count": null,
   "metadata": {
    "collapsed": false
   },
   "outputs": [],
   "source": [
    "def _reused_commands(explorations):\n",
    "    expls = []\n",
    "    for expl in explorations:\n",
    "        if 'ReuseExplorer' == expl[0]['from']:\n",
    "            expls.append(expl)\n",
    "    return expls\n",
    "\n",
    "for nor_data, src_data, tgt_data in data_min_tgt:\n",
    "    env_cfg = tgt_data.job.jobcfg.exploration.env\n",
    "    env_cfg.classname = 'environments.envs.KinArmEuclidean'\n",
    "    env = environments.Environment.create(env_cfg)\n",
    "\n",
    "    reused_commands = _reused_commands(tgt_data['explorations'])#[:50]\n",
    "    arm_examples(env, reused_commands)"
   ]
  },
  {
   "cell_type": "markdown",
   "metadata": {},
   "source": [
    "## Provenance Data"
   ]
  },
  {
   "cell_type": "code",
   "execution_count": null,
   "metadata": {
    "collapsed": false
   },
   "outputs": [],
   "source": [
    "import provenance\n",
    "prov_data = provenance.planar_arms()\n",
    "print(prov_data.message())"
   ]
  },
  {
   "cell_type": "markdown",
   "metadata": {},
   "source": [
    " "
   ]
  }
 ],
 "metadata": {
  "kernelspec": {
   "display_name": "Python 2",
   "language": "python",
   "name": "python2"
  },
  "language_info": {
   "codemirror_mode": {
    "name": "ipython",
    "version": 2
   },
   "file_extension": ".py",
   "mimetype": "text/x-python",
   "name": "python",
   "nbconvert_exporter": "python",
   "pygments_lexer": "ipython2",
   "version": "2.7.11"
  }
 },
 "nbformat": 4,
 "nbformat_minor": 0
}