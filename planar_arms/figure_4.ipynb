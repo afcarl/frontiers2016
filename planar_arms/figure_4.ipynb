{
 "cells": [
  {
   "cell_type": "markdown",
   "metadata": {},
   "source": [
    "# Figure 4"
   ]
  },
  {
   "cell_type": "markdown",
   "metadata": {
    "collapsed": false
   },
   "source": [
    "The following script was used to generate the graphs of Figure 4 of the article \"Behavioral Diversity Generation in Autonomous Exploration Through Reuse of Past Experience\" by Fabien C. Y. Benureau and Pierre-Yves Oudeyer.\n",
    "\n",
    "The [full code is available](http://fabien.benureau.com/code/frontiers2016.html) and is distributed under the [Open Science License](http://fabien.benureau.com/openscience.html). For any questions, remarks or difficulties running this code, contact [fabien.benureau@gmail.com](mailto:fabien.benureau@gmail.com)."
   ]
  },
  {
   "cell_type": "code",
   "execution_count": null,
   "metadata": {
    "collapsed": false
   },
   "outputs": [],
   "source": [
    "import random\n",
    "\n",
    "import explorers\n",
    "import environments\n",
    "from environments import tools\n",
    "\n",
    "import dotdot\n",
    "import envs\n",
    "import exs\n",
    "import factored\n",
    "import graphs"
   ]
  },
  {
   "cell_type": "code",
   "execution_count": null,
   "metadata": {
    "collapsed": true
   },
   "outputs": [],
   "source": [
    "DIM  = 20    # number of joint in the arm\n",
    "RES  = 20    # number of row and column in the reuse grid\n",
    "MB   = 50    # number of motor babbling/reuse steps\n",
    "N    = 5000  # total number of steps"
   ]
  },
  {
   "cell_type": "code",
   "execution_count": null,
   "metadata": {
    "collapsed": true
   },
   "outputs": [],
   "source": [
    "random.seed(0) # seed used in the paper. Do experiment with other values."
   ]
  },
  {
   "cell_type": "markdown",
   "metadata": {},
   "source": [
    "## Source Task"
   ]
  },
  {
   "cell_type": "markdown",
   "metadata": {},
   "source": [
    "### Instanciating the environment"
   ]
  },
  {
   "cell_type": "code",
   "execution_count": null,
   "metadata": {
    "collapsed": true
   },
   "outputs": [],
   "source": [
    "src_env_name, src_env_cfg = envs.kin(dim=DIM, limit=150)\n",
    "\n",
    "src_env = environments.Environment.create(src_env_cfg)"
   ]
  },
  {
   "cell_type": "markdown",
   "metadata": {},
   "source": [
    "### Instanciating the explorer"
   ]
  },
  {
   "cell_type": "code",
   "execution_count": null,
   "metadata": {
    "collapsed": false
   },
   "outputs": [],
   "source": [
    "src_ex_cfg = exs.catalog['rmb50.rgb.p0.05']._deepcopy()\n",
    "src_ex_cfg.eras = (MB, None)\n",
    "src_ex_cfg.m_channels = src_env.m_channels\n",
    "src_ex_cfg.s_channels = src_env.s_channels\n",
    "\n",
    "src_ex = explorers.Explorer.create(src_ex_cfg)"
   ]
  },
  {
   "cell_type": "markdown",
   "metadata": {},
   "source": [
    "### Running the Exploration"
   ]
  },
  {
   "cell_type": "code",
   "execution_count": null,
   "metadata": {
    "collapsed": false
   },
   "outputs": [],
   "source": [
    "src_explorations, src_s_vectors, src_s_goals = factored.run_exploration(src_env, src_ex, N)"
   ]
  },
  {
   "cell_type": "markdown",
   "metadata": {},
   "source": [
    "### Graph of the source exploration distribution of effects"
   ]
  },
  {
   "cell_type": "code",
   "execution_count": null,
   "metadata": {
    "collapsed": false
   },
   "outputs": [],
   "source": [
    "import graphs\n",
    "graphs.output_notebook()"
   ]
  },
  {
   "cell_type": "code",
   "execution_count": null,
   "metadata": {
    "collapsed": false
   },
   "outputs": [],
   "source": [
    "fig = graphs.spread(src_env.s_channels, s_vectors=src_s_vectors,\n",
    "                    e_radius=1.5, e_alpha=0.5, title='first arm - {} steps'.format(N))\n",
    "\n",
    "graphs.show(fig)"
   ]
  },
  {
   "cell_type": "markdown",
   "metadata": {},
   "source": [
    "### Creating reuse dataset"
   ]
  },
  {
   "cell_type": "code",
   "execution_count": null,
   "metadata": {
    "collapsed": true
   },
   "outputs": [],
   "source": [
    "src_dataset = {'m_channels': src_env.m_channels,\n",
    "               's_channels': src_env.s_channels,\n",
    "               'explorations': src_explorations}"
   ]
  },
  {
   "cell_type": "markdown",
   "metadata": {},
   "source": [
    "## Target Task"
   ]
  },
  {
   "cell_type": "code",
   "execution_count": null,
   "metadata": {
    "collapsed": true
   },
   "outputs": [],
   "source": [
    "random.seed(3)"
   ]
  },
  {
   "cell_type": "markdown",
   "metadata": {},
   "source": [
    "### Instanciating the target environment"
   ]
  },
  {
   "cell_type": "code",
   "execution_count": null,
   "metadata": {
    "collapsed": false
   },
   "outputs": [],
   "source": [
    "tgt_env_name, tgt_env_cfg = envs.kin(dim=DIM, limit=150, polar=True)\n",
    "tgt_env_cfg.lengths = [0.9**i for i in range(tgt_env_cfg.dim)]\n",
    "tgt_env_cfg.lengths = [s/sum(tgt_env_cfg.lengths) for s in tgt_env_cfg.lengths]\n",
    "tgt_env = environments.Environment.create(tgt_env_cfg)"
   ]
  },
  {
   "cell_type": "markdown",
   "metadata": {},
   "source": [
    "### Instanciating the reuse explorer"
   ]
  },
  {
   "cell_type": "code",
   "execution_count": null,
   "metadata": {
    "collapsed": false
   },
   "outputs": [],
   "source": [
    "tgt_ex_cfg                = exs.catalog['random.goal']._deepcopy()\n",
    "tgt_ex_cfg.eras           = (MB, None)\n",
    "tgt_ex_cfg.weights        = ((0.0, 0.0, 1.0), (0.0, 1.0, 0.0)) # mb, gb, and reuse probabilities of usage\n",
    "\n",
    "tgt_ex_cfg.ex_2           = explorers.ReuseExplorer.defcfg._deepcopy()\n",
    "tgt_ex_cfg.ex_2.reuse.res = RES\n",
    "\n",
    "tgt_ex_cfg.m_channels = tgt_env.m_channels\n",
    "tgt_ex_cfg.s_channels = tgt_env.s_channels\n",
    "\n",
    "tgt_ex = explorers.Explorer.create(tgt_ex_cfg, datasets=[src_dataset])"
   ]
  },
  {
   "cell_type": "markdown",
   "metadata": {},
   "source": [
    "### Running the exploration"
   ]
  },
  {
   "cell_type": "code",
   "execution_count": null,
   "metadata": {
    "collapsed": false
   },
   "outputs": [],
   "source": [
    "tgt_explorations, tgt_s_vectors, tgt_s_goals = factored.run_exploration(tgt_env, tgt_ex, N)"
   ]
  },
  {
   "cell_type": "markdown",
   "metadata": {},
   "source": [
    "### Effect selection graph"
   ]
  },
  {
   "cell_type": "code",
   "execution_count": null,
   "metadata": {
    "collapsed": false
   },
   "outputs": [],
   "source": [
    "def reused_commands(reuse_cfg, tgt_exploration):\n",
    "    uid = reuse_cfg.uuid\n",
    "    expls = []\n",
    "    for expl in tgt_explorations:\n",
    "        if uid in expl[0]['uuids']:\n",
    "            expls.append(expl)\n",
    "    return expls\n",
    "        \n",
    "reused = reused_commands(tgt_ex.cfg.ex_2, tgt_explorations)\n",
    "\n",
    "reused_src_s_vectors = [tools.to_vector(src_env.execute(r[0]['m_signal'])['s_signal'], src_env.s_channels) \n",
    "                        for r in reused]\n",
    "reused_tgt_s_vectors = [tools.to_vector(tgt_env.execute(r[0]['m_signal'])['s_signal'], tgt_env.s_channels) \n",
    "                        for r in reused]"
   ]
  },
  {
   "cell_type": "code",
   "execution_count": null,
   "metadata": {
    "collapsed": false
   },
   "outputs": [],
   "source": [
    "# reuse graphs\n",
    "selection_fig = graphs.spread(src_env.s_channels, s_vectors=src_s_vectors,\n",
    "                              e_radius=1.5, e_alpha=0.5, title='first arm - {} steps'.format(N))\n",
    "graphs.spread(src_env.s_channels, s_vectors=reused_src_s_vectors, fig=selection_fig,\n",
    "              e_color='#FF030D', e_radius=2.0, e_alpha=1.0, title='first arm - {} steps'.format(N))\n",
    "graphs.display_grid(selection_fig, x_range=[-1.0, 1.0], y_range=[-1.0, 1.0], \n",
    "                    div_x=RES, div_y=RES, color='#666666', alpha=0.5)\n",
    "\n",
    "graphs.show(selection_fig)"
   ]
  },
  {
   "cell_type": "markdown",
   "metadata": {},
   "source": [
    "### Illustrating reused postures on both arms"
   ]
  },
  {
   "cell_type": "code",
   "execution_count": null,
   "metadata": {
    "collapsed": false
   },
   "outputs": [],
   "source": [
    "src_fig = graphs.posture_explorations(src_env, reused, alpha=0.5, radius_factor=0.75, \n",
    "                                      title='{} reused commands - source exploration'.format(len(reused)))\n",
    "tgt_fig = graphs.posture_explorations(tgt_env, reused, alpha=0.5, radius_factor=0.75,\n",
    "                                      title='{} reused commands - target exploration'.format(len(reused)))\n",
    "\n",
    "graphs.show([[src_fig, tgt_fig]])"
   ]
  },
  {
   "cell_type": "markdown",
   "metadata": {},
   "source": [
    "### Reuse exploration graph"
   ]
  },
  {
   "cell_type": "code",
   "execution_count": null,
   "metadata": {
    "collapsed": false
   },
   "outputs": [],
   "source": [
    "figs = [[]]\n",
    "for t in [400, N]:\n",
    "    alpha = 1.0 if t != N else 0.5\n",
    "    fig = graphs.spread(tgt_env.s_channels, s_vectors=tgt_s_vectors[:t],\n",
    "                        e_radius=1.5, e_alpha=alpha, title='first arm - {} steps'.format(t))\n",
    "\n",
    "    graphs.spread(tgt_env.s_channels, s_vectors=tgt_s_vectors[:MB], fig=fig,\n",
    "              e_color='#FF030D', e_radius=2.0, e_alpha=1.0, title='first arm - {} steps'.format(t))\n",
    "\n",
    "    figs[0].append(fig)\n",
    "\n",
    "graphs.show(figs)"
   ]
  },
  {
   "cell_type": "markdown",
   "metadata": {
    "collapsed": true
   },
   "source": [
    "## No Reuse Exploration"
   ]
  },
  {
   "cell_type": "code",
   "execution_count": null,
   "metadata": {
    "collapsed": true
   },
   "outputs": [],
   "source": [
    "random.seed(1)"
   ]
  },
  {
   "cell_type": "markdown",
   "metadata": {},
   "source": [
    "### Instanciating the explorer"
   ]
  },
  {
   "cell_type": "code",
   "execution_count": null,
   "metadata": {
    "collapsed": false
   },
   "outputs": [],
   "source": [
    "nor_ex_cfg = exs.catalog['random.goal']._deepcopy()\n",
    "nor_ex_cfg.eras = (MB, None)\n",
    "nor_ex_cfg.m_channels = tgt_env.m_channels\n",
    "nor_ex_cfg.s_channels = tgt_env.s_channels\n",
    "\n",
    "nor_ex = explorers.Explorer.create(nor_ex_cfg)"
   ]
  },
  {
   "cell_type": "markdown",
   "metadata": {},
   "source": [
    "### Running the exploration"
   ]
  },
  {
   "cell_type": "code",
   "execution_count": null,
   "metadata": {
    "collapsed": false
   },
   "outputs": [],
   "source": [
    "nor_explorations, nor_s_vectors, nor_s_goals = factored.run_exploration(tgt_env, nor_ex, N)"
   ]
  },
  {
   "cell_type": "markdown",
   "metadata": {},
   "source": [
    "### Postures generated by random motor babbling"
   ]
  },
  {
   "cell_type": "code",
   "execution_count": null,
   "metadata": {
    "collapsed": false
   },
   "outputs": [],
   "source": [
    "# no reuse graphs\n",
    "nor_fig = graphs.posture_explorations(tgt_env, nor_explorations[:50], alpha=0.50, radius_factor=0.75, \n",
    "                                      plot_width=490, plot_height=490, \n",
    "                                      title='{} random motor commands'.format(len(reused)))\n",
    "\n",
    "graphs.show(nor_fig)"
   ]
  },
  {
   "cell_type": "markdown",
   "metadata": {},
   "source": [
    "### Random motor babbling exploration graphs"
   ]
  },
  {
   "cell_type": "code",
   "execution_count": null,
   "metadata": {
    "collapsed": false
   },
   "outputs": [],
   "source": [
    "figs = [[]]\n",
    "for t in [400, N]:\n",
    "    alpha = 1.0 if t != N else 0.5\n",
    "    fig = graphs.spread(tgt_env.s_channels, s_vectors=nor_s_vectors[:t],\n",
    "                        e_radius=1.5, e_alpha=alpha, title='target arm - {} steps'.format(t))\n",
    "    \n",
    "    graphs.spread(tgt_env.s_channels, s_vectors=nor_s_vectors[:MB], fig=fig,\n",
    "              e_color='#FF030D', e_radius=2.0, e_alpha=1.0)\n",
    "\n",
    "    figs[0].append(fig)\n",
    "    \n",
    "graphs.show(figs)"
   ]
  },
  {
   "cell_type": "markdown",
   "metadata": {},
   "source": [
    "## Provenance Data"
   ]
  },
  {
   "cell_type": "code",
   "execution_count": null,
   "metadata": {
    "collapsed": false
   },
   "outputs": [],
   "source": [
    "import provenance\n",
    "prov_data = provenance.planar_arms()\n",
    "print(prov_data.message())"
   ]
  },
  {
   "cell_type": "markdown",
   "metadata": {
    "collapsed": true
   },
   "source": [
    " "
   ]
  }
 ],
 "metadata": {
  "kernelspec": {
   "display_name": "Python 2",
   "language": "python",
   "name": "python2"
  },
  "language_info": {
   "codemirror_mode": {
    "name": "ipython",
    "version": 2
   },
   "file_extension": ".py",
   "mimetype": "text/x-python",
   "name": "python",
   "nbconvert_exporter": "python",
   "pygments_lexer": "ipython2",
   "version": "2.7.11"
  }
 },
 "nbformat": 4,
 "nbformat_minor": 0
}