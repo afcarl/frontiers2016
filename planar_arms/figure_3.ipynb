{
 "cells": [
  {
   "cell_type": "markdown",
   "metadata": {},
   "source": [
    "# Figure 3"
   ]
  },
  {
   "cell_type": "markdown",
   "metadata": {},
   "source": [
    "The following script was used to generate the graphs of Figure 3 of the article \"Behavioral Diversity Generation in Autonomous Exploration Through Reuse of Past Experience\" by Fabien C. Y. Benureau and Pierre-Yves Oudeyer.\n",
    "\n",
    "The [full code is available](http://fabien.benureau.com/code/frontiers2016.html) and is distributed under the [Open Science License](http://fabien.benureau.com/openscience.html). For any questions, remarks or difficulties running this code, contact [fabien.benureau@gmail.com](mailto:fabien.benureau@gmail.com)."
   ]
  },
  {
   "cell_type": "code",
   "execution_count": null,
   "metadata": {
    "collapsed": false
   },
   "outputs": [],
   "source": [
    "import random\n",
    "import copy\n",
    "\n",
    "import environments\n",
    "\n",
    "import dotdot\n",
    "import envs\n",
    "import graphs\n",
    "\n",
    "\n",
    "DIM = 20\n",
    "RANGE = 150\n",
    "\n",
    "\n",
    "# instanciating the two environments\n",
    "env_name, env_cfg = envs.kin(dim=DIM, limit=RANGE)\n",
    "env = environments.Environment.create(env_cfg)\n",
    "\n",
    "lengths = [0.9**i for i in range(DIM)]\n",
    "lengths = [s/sum(lengths) for s in lengths]\n",
    "env2_name, env2_cfg = envs.kin(dim=DIM, limit=RANGE, lengths=lengths)\n",
    "env2 = environments.Environment.create(env2_cfg)\n",
    "\n",
    "\n",
    "# defining postures\n",
    "random.seed(0)\n",
    "m_channels = copy.deepcopy(env.m_channels)\n",
    "for i in range(DIM-1):\n",
    "    m_channels[i].bounds = (-45, 45)\n",
    "m_signals = [environments.tools.random_signal(m_channels) for _ in range(50)]\n",
    "\n",
    "\n",
    "# selecting some proeminent postures\n",
    "selected = [m_signals[i] for i in [0, 1, 2, 3, 5, 9]]\n",
    "\n",
    "\n",
    "# spreading their first joints to avoid superpositions\n",
    "m_signals[0]['j{}'.format(DIM-1)] =  100.0\n",
    "m_signals[1]['j{}'.format(DIM-1)] = -150.0\n",
    "m_signals[2]['j{}'.format(DIM-1)] =  -30.0\n",
    "m_signals[3]['j{}'.format(DIM-1)] =   50.0\n",
    "m_signals[5]['j{}'.format(DIM-1)] =  -50.0\n",
    "m_signals[9]['j{}'.format(DIM-1)] =   20.0\n",
    "\n",
    "\n",
    "# making graphs\n",
    "graphs.output_notebook()\n",
    "\n",
    "fig = None\n",
    "for kin_env, color in zip([env, env2], ['#666666', '#E84A5F']):\n",
    "    fig = graphs.posture_signals(kin_env, m_signals, fig=fig,\n",
    "                                 color=color, alpha=0.1, radius_factor=0.5)\n",
    "for kin_env, color in zip([env, env2], ['#666666', '#E84A5F']):\n",
    "    fig = graphs.posture_signals(kin_env, selected, fig=fig,\n",
    "                                 color=color, alpha=0.75, radius_factor=0.5)\n",
    "graphs.show(fig)"
   ]
  },
  {
   "cell_type": "markdown",
   "metadata": {},
   "source": [
    "### Provenance Data "
   ]
  },
  {
   "cell_type": "code",
   "execution_count": null,
   "metadata": {
    "collapsed": false
   },
   "outputs": [],
   "source": [
    "import provenance\n",
    "prov_data = provenance.planar_arms()\n",
    "print(prov_data.message())"
   ]
  },
  {
   "cell_type": "markdown",
   "metadata": {},
   "source": [
    " "
   ]
  }
 ],
 "metadata": {
  "kernelspec": {
   "display_name": "Python 2",
   "language": "python",
   "name": "python2"
  },
  "language_info": {
   "codemirror_mode": {
    "name": "ipython",
    "version": 2
   },
   "file_extension": ".py",
   "mimetype": "text/x-python",
   "name": "python",
   "nbconvert_exporter": "python",
   "pygments_lexer": "ipython2",
   "version": "2.7.11"
  }
 },
 "nbformat": 4,
 "nbformat_minor": 0
}